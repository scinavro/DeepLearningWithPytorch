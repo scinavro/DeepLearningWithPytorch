{
 "cells": [
  {
   "cell_type": "code",
   "execution_count": null,
   "metadata": {},
   "outputs": [],
   "source": [
    "[XOR 문제 - 단층 퍼셉트론 구현하기]"
   ]
  },
  {
   "cell_type": "code",
   "execution_count": 6,
   "metadata": {},
   "outputs": [
    {
     "data": {
      "text/plain": [
       "<torch._C.Generator at 0x258ca296fb0>"
      ]
     },
     "execution_count": 6,
     "metadata": {},
     "output_type": "execute_result"
    }
   ],
   "source": [
    "import torch\n",
    "import torch.nn as nn\n",
    "\n",
    "device = 'cpu'\n",
    "torch.manual_seed(777)"
   ]
  },
  {
   "cell_type": "code",
   "execution_count": 4,
   "metadata": {},
   "outputs": [],
   "source": [
    "X = torch.FloatTensor([[0, 0], [0, 1], [1, 0], [1, 1]]).to(device)\n",
    "Y = torch.FloatTensor([[0], [1], [1], [0]]).to(device)"
   ]
  },
  {
   "cell_type": "code",
   "execution_count": 12,
   "metadata": {},
   "outputs": [
    {
     "name": "stdout",
     "output_type": "stream",
     "text": [
      "[Parameter containing:\n",
      "tensor([[0.3171, 0.0046]], requires_grad=True), Parameter containing:\n",
      "tensor([0.4594], requires_grad=True)]\n",
      "[Parameter containing:\n",
      "tensor([[0.3171, 0.0046]], requires_grad=True), Parameter containing:\n",
      "tensor([0.4594], requires_grad=True)]\n"
     ]
    }
   ],
   "source": [
    "linear = nn.Linear(2, 1, bias = True)\n",
    "sigmoid = nn.Sigmoid()\n",
    "model = nn.Sequential(linear, sigmoid).to(device)\n",
    "print(list(linear.parameters()))\n",
    "print(list(model.parameters()))"
   ]
  },
  {
   "cell_type": "code",
   "execution_count": 10,
   "metadata": {},
   "outputs": [],
   "source": [
    "criterion = nn.BCELoss().to(device)\n",
    "optimizer = torch.optim.SGD(model.parameters(), lr = 1)"
   ]
  },
  {
   "cell_type": "code",
   "execution_count": 14,
   "metadata": {},
   "outputs": [
    {
     "name": "stdout",
     "output_type": "stream",
     "text": [
      "0 0.7433513402938843\n",
      "100 0.7433513402938843\n",
      "200 0.7433513402938843\n",
      "300 0.7433513402938843\n",
      "400 0.7433513402938843\n",
      "500 0.7433513402938843\n",
      "600 0.7433513402938843\n",
      "700 0.7433513402938843\n",
      "800 0.7433513402938843\n",
      "900 0.7433513402938843\n",
      "1000 0.7433513402938843\n",
      "1100 0.7433513402938843\n",
      "1200 0.7433513402938843\n",
      "1300 0.7433513402938843\n",
      "1400 0.7433513402938843\n",
      "1500 0.7433513402938843\n",
      "1600 0.7433513402938843\n",
      "1700 0.7433513402938843\n",
      "1800 0.7433513402938843\n",
      "1900 0.7433513402938843\n",
      "2000 0.7433513402938843\n",
      "2100 0.7433513402938843\n",
      "2200 0.7433513402938843\n",
      "2300 0.7433513402938843\n",
      "2400 0.7433513402938843\n",
      "2500 0.7433513402938843\n",
      "2600 0.7433513402938843\n",
      "2700 0.7433513402938843\n",
      "2800 0.7433513402938843\n",
      "2900 0.7433513402938843\n",
      "3000 0.7433513402938843\n",
      "3100 0.7433513402938843\n",
      "3200 0.7433513402938843\n",
      "3300 0.7433513402938843\n",
      "3400 0.7433513402938843\n",
      "3500 0.7433513402938843\n",
      "3600 0.7433513402938843\n",
      "3700 0.7433513402938843\n",
      "3800 0.7433513402938843\n",
      "3900 0.7433513402938843\n",
      "4000 0.7433513402938843\n",
      "4100 0.7433513402938843\n",
      "4200 0.7433513402938843\n",
      "4300 0.7433513402938843\n",
      "4400 0.7433513402938843\n",
      "4500 0.7433513402938843\n",
      "4600 0.7433513402938843\n",
      "4700 0.7433513402938843\n",
      "4800 0.7433513402938843\n",
      "4900 0.7433513402938843\n",
      "5000 0.7433513402938843\n",
      "5100 0.7433513402938843\n",
      "5200 0.7433513402938843\n",
      "5300 0.7433513402938843\n",
      "5400 0.7433513402938843\n",
      "5500 0.7433513402938843\n",
      "5600 0.7433513402938843\n",
      "5700 0.7433513402938843\n",
      "5800 0.7433513402938843\n",
      "5900 0.7433513402938843\n",
      "6000 0.7433513402938843\n",
      "6100 0.7433513402938843\n",
      "6200 0.7433513402938843\n",
      "6300 0.7433513402938843\n",
      "6400 0.7433513402938843\n",
      "6500 0.7433513402938843\n",
      "6600 0.7433513402938843\n",
      "6700 0.7433513402938843\n",
      "6800 0.7433513402938843\n",
      "6900 0.7433513402938843\n",
      "7000 0.7433513402938843\n",
      "7100 0.7433513402938843\n",
      "7200 0.7433513402938843\n",
      "7300 0.7433513402938843\n",
      "7400 0.7433513402938843\n",
      "7500 0.7433513402938843\n",
      "7600 0.7433513402938843\n",
      "7700 0.7433513402938843\n",
      "7800 0.7433513402938843\n",
      "7900 0.7433513402938843\n",
      "8000 0.7433513402938843\n",
      "8100 0.7433513402938843\n",
      "8200 0.7433513402938843\n",
      "8300 0.7433513402938843\n",
      "8400 0.7433513402938843\n",
      "8500 0.7433513402938843\n",
      "8600 0.7433513402938843\n",
      "8700 0.7433513402938843\n",
      "8800 0.7433513402938843\n",
      "8900 0.7433513402938843\n",
      "9000 0.7433513402938843\n",
      "9100 0.7433513402938843\n",
      "9200 0.7433513402938843\n",
      "9300 0.7433513402938843\n",
      "9400 0.7433513402938843\n",
      "9500 0.7433513402938843\n",
      "9600 0.7433513402938843\n",
      "9700 0.7433513402938843\n",
      "9800 0.7433513402938843\n",
      "9900 0.7433513402938843\n",
      "10000 0.7433513402938843\n"
     ]
    }
   ],
   "source": [
    "for step in range(10001):\n",
    "    optimizer.zero_grad()\n",
    "    hypothesis = model(X)\n",
    "    \n",
    "    cost = criterion(hypothesis, Y)\n",
    "    cost.backward()\n",
    "    optimizer.step()\n",
    "    \n",
    "    if step % 100 == 0:\n",
    "        print(step, cost.item())"
   ]
  },
  {
   "cell_type": "code",
   "execution_count": 15,
   "metadata": {},
   "outputs": [
    {
     "name": "stdout",
     "output_type": "stream",
     "text": [
      "모델의 출력값(Hypothesis):  [[0.61287934]\n",
      " [0.61397755]\n",
      " [0.6849394 ]\n",
      " [0.68593794]]\n",
      "모델의 예측값(Predicted):  [[1.]\n",
      " [1.]\n",
      " [1.]\n",
      " [1.]]\n",
      "실제값(Y):  [[0.]\n",
      " [1.]\n",
      " [1.]\n",
      " [0.]]\n",
      "정확도(Accuracy):  0.5\n"
     ]
    }
   ],
   "source": [
    "with torch.no_grad():\n",
    "    hypothesis = model(X)\n",
    "    predicted = (hypothesis > 0.5).float()\n",
    "    accuracy = (predicted == Y).float().mean()\n",
    "    print('모델의 출력값(Hypothesis): ', hypothesis.detach().cpu().numpy())\n",
    "    print('모델의 예측값(Predicted): ', predicted.detach().cpu().numpy())\n",
    "    print('실제값(Y): ', Y.cpu().numpy())\n",
    "    print('정확도(Accuracy): ', accuracy.item())"
   ]
  },
  {
   "cell_type": "code",
   "execution_count": null,
   "metadata": {},
   "outputs": [],
   "source": []
  },
  {
   "cell_type": "code",
   "execution_count": null,
   "metadata": {},
   "outputs": [],
   "source": []
  },
  {
   "cell_type": "code",
   "execution_count": null,
   "metadata": {},
   "outputs": [],
   "source": []
  },
  {
   "cell_type": "code",
   "execution_count": null,
   "metadata": {},
   "outputs": [],
   "source": [
    "[XOR 문제 - 다중 퍼셉트론 구현하기]"
   ]
  },
  {
   "cell_type": "code",
   "execution_count": 1,
   "metadata": {},
   "outputs": [],
   "source": [
    "import torch\n",
    "import torch.nn as nn\n",
    "\n",
    "device = 'cuda' if torch.cuda.is_available() else 'cpu'\n",
    "\n",
    "torch.manual_seed(777)\n",
    "if device == 'cuda':\n",
    "    torch.cuda.manual_seed_all(777)"
   ]
  },
  {
   "cell_type": "code",
   "execution_count": 2,
   "metadata": {},
   "outputs": [],
   "source": [
    "X = torch.FloatTensor([[0, 0], [0, 1], [1, 0], [1, 1]]).to(device)\n",
    "Y = torch.FloatTensor([[0], [1], [1], [0]]).to(device)"
   ]
  },
  {
   "cell_type": "code",
   "execution_count": 3,
   "metadata": {},
   "outputs": [],
   "source": [
    "model = nn.Sequential(\n",
    "    nn.Linear(2, 10, bias = True),\n",
    "    nn.Sigmoid(),\n",
    "    nn.Linear(10, 10, bias = True),\n",
    "    nn.Sigmoid(),\n",
    "    nn.Linear(10, 10, bias = True),\n",
    "    nn.Sigmoid(),\n",
    "    nn.Linear(10, 1, bias = True),\n",
    "    nn.Sigmoid()\n",
    "    ).to(device)"
   ]
  },
  {
   "cell_type": "code",
   "execution_count": 4,
   "metadata": {},
   "outputs": [
    {
     "name": "stdout",
     "output_type": "stream",
     "text": [
      "[Parameter containing:\n",
      "tensor([[-0.5913, -0.0125],\n",
      "        [-0.1368, -0.1613],\n",
      "        [ 0.5393,  0.5390],\n",
      "        [ 0.3171,  0.0046],\n",
      "        [ 0.4594, -0.3346],\n",
      "        [-0.2669,  0.1340],\n",
      "        [-0.5527,  0.1716],\n",
      "        [ 0.3324,  0.6927],\n",
      "        [ 0.5890, -0.2480],\n",
      "        [ 0.5254,  0.5479]], requires_grad=True), Parameter containing:\n",
      "tensor([ 0.5707, -0.3955, -0.1420, -0.3777,  0.6238,  0.5911,  0.5589, -0.0933,\n",
      "        -0.4917, -0.2611], requires_grad=True), Parameter containing:\n",
      "tensor([[-0.0777,  0.0738,  0.0224,  0.3143, -0.0773,  0.2872,  0.2076,  0.0923,\n",
      "          0.0344, -0.0821],\n",
      "        [-0.2722, -0.0715,  0.1450,  0.2572, -0.3125, -0.3003, -0.0319, -0.1804,\n",
      "         -0.0675,  0.0084],\n",
      "        [ 0.3156, -0.2212, -0.1146,  0.2555,  0.1888,  0.2235, -0.2769,  0.0965,\n",
      "          0.3159,  0.0272],\n",
      "        [ 0.1234, -0.2545, -0.1167, -0.2079,  0.1486,  0.2773,  0.1240, -0.2649,\n",
      "         -0.0943,  0.0560],\n",
      "        [-0.0586, -0.1496, -0.2094, -0.2899, -0.0971,  0.2965, -0.2563, -0.1580,\n",
      "         -0.0316, -0.1502],\n",
      "        [ 0.1539, -0.2662,  0.1126,  0.2373,  0.2475, -0.2837,  0.0983,  0.3138,\n",
      "          0.2481,  0.2438],\n",
      "        [-0.2798, -0.2589,  0.1985,  0.2978,  0.3157,  0.1937,  0.2465,  0.2458,\n",
      "          0.1408,  0.1556],\n",
      "        [ 0.0025, -0.1962, -0.0545, -0.0346,  0.1628,  0.1492, -0.2419, -0.3122,\n",
      "         -0.2677,  0.0732],\n",
      "        [ 0.2512, -0.0675, -0.1243,  0.1797, -0.2585, -0.1294, -0.0957,  0.0928,\n",
      "          0.1083, -0.2885],\n",
      "        [-0.2064,  0.1919,  0.3060,  0.1519,  0.2671, -0.1669, -0.2014,  0.2997,\n",
      "          0.2143,  0.2301]], requires_grad=True), Parameter containing:\n",
      "tensor([-0.1248,  0.1241, -0.3153, -0.1469,  0.0800,  0.2347, -0.1352,  0.1177,\n",
      "         0.3027, -0.2231], requires_grad=True), Parameter containing:\n",
      "tensor([[ 0.0952,  0.1791, -0.2050,  0.1988, -0.2998, -0.2906,  0.0454, -0.1574,\n",
      "         -0.2643, -0.0569],\n",
      "        [-0.1207, -0.1112,  0.3120, -0.1217, -0.1758,  0.1247, -0.0648, -0.2217,\n",
      "         -0.0454,  0.0514],\n",
      "        [-0.0784,  0.3065,  0.1264, -0.1396,  0.0246,  0.1650, -0.0993, -0.2992,\n",
      "          0.0964, -0.1028],\n",
      "        [ 0.2476,  0.0810, -0.0717,  0.2636,  0.1547,  0.2223,  0.1090,  0.0931,\n",
      "          0.0914, -0.1598],\n",
      "        [ 0.0675, -0.2526, -0.2661, -0.2203,  0.2449,  0.2706, -0.0972,  0.2440,\n",
      "          0.2966,  0.3113],\n",
      "        [-0.2503, -0.0777,  0.0976,  0.2015,  0.2178,  0.1283, -0.2894,  0.0542,\n",
      "         -0.2351,  0.1046],\n",
      "        [ 0.0155,  0.1961, -0.0499,  0.0653,  0.2778,  0.1966, -0.3148, -0.2040,\n",
      "          0.1474, -0.2360],\n",
      "        [-0.1470,  0.2806, -0.2647,  0.0157, -0.2051, -0.0361,  0.2542, -0.2678,\n",
      "         -0.0864,  0.0862],\n",
      "        [-0.2048,  0.2181, -0.1797,  0.1794, -0.2646,  0.2256,  0.2015,  0.0332,\n",
      "         -0.0673,  0.0264],\n",
      "        [-0.3048, -0.1401, -0.2578, -0.1693, -0.2927,  0.2796,  0.0776, -0.1052,\n",
      "         -0.2282, -0.0927]], requires_grad=True), Parameter containing:\n",
      "tensor([-0.0038, -0.1206,  0.1326, -0.1841, -0.0424,  0.2300, -0.1502,  0.0165,\n",
      "        -0.1110,  0.2981], requires_grad=True), Parameter containing:\n",
      "tensor([[-0.1914, -0.1145,  0.2970,  0.3002,  0.0523,  0.0495, -0.0763, -0.1931,\n",
      "         -0.0942, -0.2033]], requires_grad=True), Parameter containing:\n",
      "tensor([-0.1208], requires_grad=True)]\n"
     ]
    }
   ],
   "source": [
    "print(list(model.parameters()))"
   ]
  },
  {
   "cell_type": "code",
   "execution_count": 6,
   "metadata": {},
   "outputs": [],
   "source": [
    "criterion = torch.nn.BCELoss().to(device)\n",
    "optimizer = torch.optim.SGD(model.parameters(), lr = 1)"
   ]
  },
  {
   "cell_type": "code",
   "execution_count": 7,
   "metadata": {},
   "outputs": [
    {
     "name": "stdout",
     "output_type": "stream",
     "text": [
      "0 0.6948983669281006\n",
      "100 0.693155825138092\n",
      "200 0.6931535601615906\n",
      "300 0.6931513547897339\n",
      "400 0.6931493282318115\n",
      "500 0.6931473016738892\n",
      "600 0.6931453943252563\n",
      "700 0.6931434273719788\n",
      "800 0.6931416988372803\n",
      "900 0.6931397914886475\n",
      "1000 0.6931380033493042\n",
      "1100 0.6931361556053162\n",
      "1200 0.6931343078613281\n",
      "1300 0.6931324005126953\n",
      "1400 0.6931304931640625\n",
      "1500 0.6931284666061401\n",
      "1600 0.6931264400482178\n",
      "1700 0.6931242942810059\n",
      "1800 0.6931220889091492\n",
      "1900 0.6931197047233582\n",
      "2000 0.6931172013282776\n",
      "2100 0.6931145191192627\n",
      "2200 0.6931115984916687\n",
      "2300 0.6931084394454956\n",
      "2400 0.6931051015853882\n",
      "2500 0.6931014657020569\n",
      "2600 0.6930974721908569\n",
      "2700 0.6930930018424988\n",
      "2800 0.6930879950523376\n",
      "2900 0.6930825114250183\n",
      "3000 0.6930763721466064\n",
      "3100 0.6930692791938782\n",
      "3200 0.6930612325668335\n",
      "3300 0.6930519342422485\n",
      "3400 0.6930410861968994\n",
      "3500 0.6930283904075623\n",
      "3600 0.6930132508277893\n",
      "3700 0.6929951310157776\n",
      "3800 0.6929728984832764\n",
      "3900 0.6929452419281006\n",
      "4000 0.6929103136062622\n",
      "4100 0.6928649544715881\n",
      "4200 0.6928046941757202\n",
      "4300 0.6927220821380615\n",
      "4400 0.692604124546051\n",
      "4500 0.6924278736114502\n",
      "4600 0.692147970199585\n",
      "4700 0.6916664838790894\n",
      "4800 0.690739631652832\n",
      "4900 0.6886204481124878\n",
      "5000 0.6820824146270752\n",
      "5100 0.6472570300102234\n",
      "5200 0.44957590103149414\n",
      "5300 0.04113069176673889\n",
      "5400 0.009717202745378017\n",
      "5500 0.005030141677707434\n",
      "5600 0.003294900059700012\n",
      "5700 0.002415710361674428\n",
      "5800 0.0018916603876277804\n",
      "5900 0.0015464271418750286\n",
      "6000 0.0013031498529016972\n",
      "6100 0.0011230817763134837\n",
      "6200 0.0009848420741036534\n",
      "6300 0.0008754964219406247\n",
      "6400 0.0007871013367548585\n",
      "6500 0.000714148220140487\n",
      "6600 0.0006530848331749439\n",
      "6700 0.0006012100493535399\n",
      "6800 0.0005566140171140432\n",
      "6900 0.0005179538857191801\n",
      "7000 0.00048405106645077467\n",
      "7100 0.00045418954687193036\n",
      "7200 0.0004275788669474423\n",
      "7300 0.00040381622966378927\n",
      "7400 0.000382498896215111\n",
      "7500 0.0003631646395660937\n",
      "7600 0.0003456493723206222\n",
      "7700 0.00032968466985039413\n",
      "7800 0.00031504686921834946\n",
      "7900 0.0003015868132933974\n",
      "8000 0.00028924489743076265\n",
      "8100 0.0002777527552098036\n",
      "8200 0.000267184863332659\n",
      "8300 0.00025731761706992984\n",
      "8400 0.0002481211849953979\n",
      "8500 0.00023955087817739695\n",
      "8600 0.00023151718778535724\n",
      "8700 0.0002239903260488063\n",
      "8800 0.0002169255749322474\n",
      "8900 0.00021024837042205036\n",
      "9000 0.00020395874162204564\n",
      "9100 0.00019804175826720893\n",
      "9200 0.00019245268777012825\n",
      "9300 0.00018711703887674958\n",
      "9400 0.000182079485966824\n",
      "9500 0.0001773251424310729\n",
      "9600 0.00017274964193347842\n",
      "9700 0.00016847225197125226\n",
      "9800 0.00016431411495432258\n",
      "9900 0.00016037956811487675\n",
      "10000 0.00015665366663597524\n"
     ]
    }
   ],
   "source": [
    "for epoch in range(10001):\n",
    "    optimizer.zero_grad()\n",
    "    \n",
    "    hypothesis = model(X)\n",
    "    \n",
    "    cost = criterion(hypothesis, Y)\n",
    "    cost.backward()\n",
    "    optimizer.step()\n",
    "    \n",
    "    if epoch % 100 == 0:\n",
    "        print(epoch, cost.item())"
   ]
  },
  {
   "cell_type": "code",
   "execution_count": 10,
   "metadata": {},
   "outputs": [
    {
     "name": "stdout",
     "output_type": "stream",
     "text": [
      "모델의 출력값(Hypothesis):  [[1.1176888e-04]\n",
      " [9.9982870e-01]\n",
      " [9.9984217e-01]\n",
      " [1.8543568e-04]]\n",
      "모델의 예측값(Predicted):  [[0.]\n",
      " [1.]\n",
      " [1.]\n",
      " [0.]]\n",
      "실제값(Y):  [[0.]\n",
      " [1.]\n",
      " [1.]\n",
      " [0.]]\n",
      "정확도(Accuracy):  1.0\n"
     ]
    }
   ],
   "source": [
    "with torch.no_grad():\n",
    "    hypothesis = model(X)\n",
    "    predicted = (hypothesis > 0.5).float()\n",
    "    accuracy = (predicted == Y).float().mean()\n",
    "    print('모델의 출력값(Hypothesis): ', hypothesis.detach().cpu().numpy())\n",
    "    print('모델의 예측값(Predicted): ', predicted.detach().cpu().numpy())\n",
    "    print('실제값(Y): ', Y.cpu().numpy())\n",
    "    print('정확도(Accuracy): ', accuracy.item())"
   ]
  },
  {
   "cell_type": "code",
   "execution_count": null,
   "metadata": {},
   "outputs": [],
   "source": []
  },
  {
   "cell_type": "code",
   "execution_count": null,
   "metadata": {},
   "outputs": [],
   "source": []
  },
  {
   "cell_type": "code",
   "execution_count": null,
   "metadata": {},
   "outputs": [],
   "source": []
  },
  {
   "cell_type": "code",
   "execution_count": null,
   "metadata": {},
   "outputs": [],
   "source": [
    "[비선형 활성화 함수]"
   ]
  },
  {
   "cell_type": "code",
   "execution_count": 11,
   "metadata": {},
   "outputs": [],
   "source": [
    "import numpy as np\n",
    "import matplotlib.pyplot as plt"
   ]
  },
  {
   "cell_type": "code",
   "execution_count": 13,
   "metadata": {},
   "outputs": [
    {
     "data": {
      "image/png": "[encoded data removed]",
      "text/plain": [
       "<Figure size 432x288 with 1 Axes>"
      ]
     },
     "metadata": {
      "needs_background": "light"
     },
     "output_type": "display_data"
    }
   ],
   "source": [
    "x = np.arange(-5.9, 5.0, 0.1)\n",
    "y = np.tanh(x)\n",
    "\n",
    "plt.plot(x, y)\n",
    "plt.plot([0, 0], [1.0, -1.0], ':')\n",
    "plt.axhline(y = 0, color = 'orange', linestyle = '--')\n",
    "plt.title('Tanh Function')\n",
    "plt.show()"
   ]
  },
  {
   "cell_type": "code",
   "execution_count": null,
   "metadata": {},
   "outputs": [],
   "source": []
  },
  {
   "cell_type": "code",
   "execution_count": 14,
   "metadata": {},
   "outputs": [
    {
     "data": {
      "image/png": "[encoded data removed]",
      "text/plain": [
       "<Figure size 432x288 with 1 Axes>"
      ]
     },
     "metadata": {
      "needs_background": "light"
     },
     "output_type": "display_data"
    }
   ],
   "source": [
    "def relu(x):\n",
    "    return np.maximum(0, x)\n",
    "\n",
    "x = np.arange(-5.0, 5.0, 0.1)\n",
    "y = relu(x)\n",
    "\n",
    "plt.plot(x, y)\n",
    "plt.plot([0, 0], [5.0, 0.0], ':')\n",
    "plt.title('Relu Function')\n",
    "plt.show()"
   ]
  },
  {
   "cell_type": "code",
   "execution_count": null,
   "metadata": {},
   "outputs": [],
   "source": []
  },
  {
   "cell_type": "code",
   "execution_count": 15,
   "metadata": {},
   "outputs": [],
   "source": [
    "a = 0.1"
   ]
  },
  {
   "cell_type": "code",
   "execution_count": 31,
   "metadata": {},
   "outputs": [
    {
     "data": {
      "image/png": "[encoded data removed]",
      "text/plain": [
       "<Figure size 432x288 with 1 Axes>"
      ]
     },
     "metadata": {
      "needs_background": "light"
     },
     "output_type": "display_data"
    }
   ],
   "source": [
    "def leaky_relu(x):\n",
    "    return np.maximum(a*x, x)\n",
    "\n",
    "x = np.arange(-5.0, 5.0, 0.1)\n",
    "y = leaky_relu(x)\n",
    "\n",
    "plt.plot(x, y)\n",
    "plt.plot([0, 0], [5, 0], ':')\n",
    "plt.title('Leaky ReLU Function')\n",
    "plt.show()"
   ]
  },
  {
   "cell_type": "code",
   "execution_count": null,
   "metadata": {},
   "outputs": [],
   "source": []
  },
  {
   "cell_type": "code",
   "execution_count": 32,
   "metadata": {},
   "outputs": [
    {
     "data": {
      "image/png": "[encoded data removed]",
      "text/plain": [
       "<Figure size 432x288 with 1 Axes>"
      ]
     },
     "metadata": {
      "needs_background": "light"
     },
     "output_type": "display_data"
    }
   ],
   "source": [
    "x = np.arange(-5.0, 5.0, 0.1)\n",
    "y = np.exp(x) / np.sum(np.exp(x))\n",
    "\n",
    "plt.plot(x, y)\n",
    "plt.title('Softmax Function')\n",
    "plt.show()"
   ]
  },
  {
   "cell_type": "code",
   "execution_count": null,
   "metadata": {},
   "outputs": [],
   "source": []
  },
  {
   "cell_type": "code",
   "execution_count": null,
   "metadata": {},
   "outputs": [],
   "source": []
  },
  {
   "cell_type": "code",
   "execution_count": null,
   "metadata": {},
   "outputs": [],
   "source": []
  },
  {
   "cell_type": "code",
   "execution_count": null,
   "metadata": {},
   "outputs": [],
   "source": [
    "[다층 퍼셉트론으로 손글씨 분류하기]"
   ]
  },
  {
   "cell_type": "code",
   "execution_count": 1,
   "metadata": {},
   "outputs": [],
   "source": [
    "%matplotlib inline\n",
    "import matplotlib.pyplot as plt\n",
    "from sklearn.datasets import load_digits\n",
    "digits = load_digits()"
   ]
  },
  {
   "cell_type": "code",
   "execution_count": 6,
   "metadata": {},
   "outputs": [
    {
     "name": "stdout",
     "output_type": "stream",
     "text": [
      "[[ 0.  0.  5. 13.  9.  1.  0.  0.]\n",
      " [ 0.  0. 13. 15. 10. 15.  5.  0.]\n",
      " [ 0.  3. 15.  2.  0. 11.  8.  0.]\n",
      " [ 0.  4. 12.  0.  0.  8.  8.  0.]\n",
      " [ 0.  5.  8.  0.  0.  9.  8.  0.]\n",
      " [ 0.  4. 11.  0.  1. 12.  7.  0.]\n",
      " [ 0.  2. 14.  5. 10. 12.  0.  0.]\n",
      " [ 0.  0.  6. 13. 10.  0.  0.  0.]]\n"
     ]
    }
   ],
   "source": [
    "print(digits.images[0])"
   ]
  },
  {
   "cell_type": "code",
   "execution_count": 7,
   "metadata": {},
   "outputs": [
    {
     "name": "stdout",
     "output_type": "stream",
     "text": [
      "0\n"
     ]
    }
   ],
   "source": [
    "print(digits.target[0])"
   ]
  },
  {
   "cell_type": "code",
   "execution_count": 8,
   "metadata": {},
   "outputs": [
    {
     "data": {
      "image/png": "[encoded data removed]",
      "text/plain": [
       "<Figure size 432x288 with 5 Axes>"
      ]
     },
     "metadata": {
      "needs_background": "light"
     },
     "output_type": "display_data"
    }
   ],
   "source": [
    "images_and_labels = list(zip(digits.images, digits.target))\n",
    "for index, (image, label) in enumerate(images_and_labels[:5]):\n",
    "    plt.subplot(2, 5, index + 1)\n",
    "    plt.axis('off')\n",
    "    plt.imshow(image, cmap = plt.cm.gray_r, interpolation = 'nearest')\n",
    "    plt.title('sample: %i' % label)"
   ]
  },
  {
   "cell_type": "code",
   "execution_count": 10,
   "metadata": {},
   "outputs": [
    {
     "name": "stdout",
     "output_type": "stream",
     "text": [
      "0 번 인덱스 샘플의 레이블 :  0\n",
      "1 번 인덱스 샘플의 레이블 :  1\n",
      "2 번 인덱스 샘플의 레이블 :  2\n",
      "3 번 인덱스 샘플의 레이블 :  3\n",
      "4 번 인덱스 샘플의 레이블 :  4\n"
     ]
    }
   ],
   "source": [
    "for i in range(5):\n",
    "    print(i, '번 인덱스 샘플의 레이블 : ', digits.target[i])"
   ]
  },
  {
   "cell_type": "code",
   "execution_count": 11,
   "metadata": {},
   "outputs": [
    {
     "name": "stdout",
     "output_type": "stream",
     "text": [
      "[ 0.  0.  5. 13.  9.  1.  0.  0.  0.  0. 13. 15. 10. 15.  5.  0.  0.  3.\n",
      " 15.  2.  0. 11.  8.  0.  0.  4. 12.  0.  0.  8.  8.  0.  0.  5.  8.  0.\n",
      "  0.  9.  8.  0.  0.  4. 11.  0.  1. 12.  7.  0.  0.  2. 14.  5. 10. 12.\n",
      "  0.  0.  0.  0.  6. 13. 10.  0.  0.  0.]\n"
     ]
    }
   ],
   "source": [
    "print(digits.data[0])"
   ]
  },
  {
   "cell_type": "code",
   "execution_count": 12,
   "metadata": {},
   "outputs": [],
   "source": [
    "X = digits.data\n",
    "Y = digits.target"
   ]
  },
  {
   "cell_type": "code",
   "execution_count": 50,
   "metadata": {},
   "outputs": [],
   "source": [
    "import torch\n",
    "import torch.nn as nn\n",
    "from torch import optim\n",
    "import random\n",
    "device = torch.device('cuda' if torch.cuda.is_available() else 'cpu')"
   ]
  },
  {
   "cell_type": "code",
   "execution_count": 14,
   "metadata": {},
   "outputs": [],
   "source": [
    "model = nn.Sequential(\n",
    "nn.Linear(64, 32),\n",
    "nn.ReLU(),\n",
    "nn.Linear(32, 16),\n",
    "nn.ReLU(),\n",
    "nn.Linear(16, 10)\n",
    ")"
   ]
  },
  {
   "cell_type": "code",
   "execution_count": 20,
   "metadata": {},
   "outputs": [
    {
     "name": "stderr",
     "output_type": "stream",
     "text": [
      "<ipython-input-20-a2464ad73ec5>:1: UserWarning: To copy construct from a tensor, it is recommended to use sourceTensor.clone().detach() or sourceTensor.clone().detach().requires_grad_(True), rather than torch.tensor(sourceTensor).\n",
      "  X = torch.tensor(X, dtype = torch.float32)\n",
      "<ipython-input-20-a2464ad73ec5>:2: UserWarning: To copy construct from a tensor, it is recommended to use sourceTensor.clone().detach() or sourceTensor.clone().detach().requires_grad_(True), rather than torch.tensor(sourceTensor).\n",
      "  Y = torch.tensor(Y, dtype = torch.int64)\n"
     ]
    }
   ],
   "source": [
    "X = torch.tensor(X, dtype = torch.float32)\n",
    "Y = torch.tensor(Y, dtype = torch.int64)\n"
   ]
  },
  {
   "cell_type": "code",
   "execution_count": 23,
   "metadata": {},
   "outputs": [],
   "source": [
    "loss_fn = nn.CrossEntropyLoss()\n",
    "optimizer = optim.Adam(model.parameters())"
   ]
  },
  {
   "cell_type": "code",
   "execution_count": 24,
   "metadata": {},
   "outputs": [],
   "source": [
    "losses = []"
   ]
  },
  {
   "cell_type": "code",
   "execution_count": 25,
   "metadata": {},
   "outputs": [
    {
     "name": "stdout",
     "output_type": "stream",
     "text": [
      "Epoch    0/100 Cost: 0.157564\n",
      "Epoch   10/100 Cost: 0.115210\n",
      "Epoch   20/100 Cost: 0.086920\n",
      "Epoch   30/100 Cost: 0.066766\n",
      "Epoch   40/100 Cost: 0.051853\n",
      "Epoch   50/100 Cost: 0.040615\n",
      "Epoch   60/100 Cost: 0.031959\n",
      "Epoch   70/100 Cost: 0.025227\n",
      "Epoch   80/100 Cost: 0.020062\n",
      "Epoch   90/100 Cost: 0.016017\n",
      "Epoch  100/100 Cost: 0.012889\n"
     ]
    }
   ],
   "source": [
    "for epoch in range(101):\n",
    "    optimizer.zero_grad()\n",
    "    y_pred = model(X)\n",
    "    loss = loss_fn(y_pred, Y)\n",
    "    loss.backward()\n",
    "    optimizer.step()\n",
    "\n",
    "    if epoch % 10 == 0:\n",
    "        print('Epoch {:4d}/{} Cost: {:.6f}'.format(\n",
    "            epoch, 100, loss.item()\n",
    "        ))\n",
    "        \n",
    "    losses.append(loss.item())"
   ]
  },
  {
   "cell_type": "code",
   "execution_count": 26,
   "metadata": {},
   "outputs": [
    {
     "data": {
      "text/plain": [
       "[<matplotlib.lines.Line2D at 0x245a60c5a00>]"
      ]
     },
     "execution_count": 26,
     "metadata": {},
     "output_type": "execute_result"
    },
    {
     "data": {
      "image/png": "[encoded data removed]",
      "text/plain": [
       "<Figure size 432x288 with 1 Axes>"
      ]
     },
     "metadata": {
      "needs_background": "light"
     },
     "output_type": "display_data"
    }
   ],
   "source": [
    "plt.plot(losses)"
   ]
  },
  {
   "cell_type": "code",
   "execution_count": 78,
   "metadata": {},
   "outputs": [
    {
     "name": "stdout",
     "output_type": "stream",
     "text": [
      "Accuracy:  1.0\n",
      "Label:  5\n",
      "Prediction:  5\n"
     ]
    },
    {
     "name": "stderr",
     "output_type": "stream",
     "text": [
      "<ipython-input-78-f9ff9a642512>:2: UserWarning: To copy construct from a tensor, it is recommended to use sourceTensor.clone().detach() or sourceTensor.clone().detach().requires_grad_(True), rather than torch.tensor(sourceTensor).\n",
      "  X = torch.tensor(X, dtype = torch.float32)\n",
      "<ipython-input-78-f9ff9a642512>:3: UserWarning: To copy construct from a tensor, it is recommended to use sourceTensor.clone().detach() or sourceTensor.clone().detach().requires_grad_(True), rather than torch.tensor(sourceTensor).\n",
      "  Y = torch.tensor(Y, dtype = torch.int64)\n"
     ]
    },
    {
     "data": {
      "image/png": "[encoded data removed]",
      "text/plain": [
       "<Figure size 432x288 with 1 Axes>"
      ]
     },
     "metadata": {
      "needs_background": "light"
     },
     "output_type": "display_data"
    }
   ],
   "source": [
    "with torch.no_grad():\n",
    "    X = torch.tensor(X, dtype = torch.float32)\n",
    "    Y = torch.tensor(Y, dtype = torch.int64)\n",
    "    \n",
    "    hypothesis = model(X)\n",
    "    prediction = torch.argmax(hypothesis, 1)\n",
    "    correct_prediction = prediction == Y\n",
    "    accuracy = correct_prediction.float().mean()\n",
    "    print('Accuracy: ', accuracy.item())\n",
    "    \n",
    "    r = random.randint(0, X.shape[0]-1)\n",
    "    X_single_data = X[r][:].float().to(device)\n",
    "    Y_single_data = Y[r].to(device)\n",
    "    \n",
    "    print('Label: ', Y_single_data.item())\n",
    "    single_prediction = model(X_single_data)\n",
    "    print('Prediction: ', torch.argmax(single_prediction, dim = 0).item())\n",
    "    \n",
    "    plt.imshow(X_single_data.view(8, 8), cmap = 'Greys', interpolation = 'nearest')\n",
    "    plt.show()"
   ]
  },
  {
   "cell_type": "code",
   "execution_count": 53,
   "metadata": {},
   "outputs": [
    {
     "name": "stdout",
     "output_type": "stream",
     "text": [
      "torch.Size([1797, 64])\n",
      "torch.Size([1797])\n",
      "tensor([[ 17.4219, -13.9589,  -2.1554,  ...,   1.7896,   4.8997,   4.2167],\n",
      "        [ -6.2882,  17.3374,  -0.1589,  ...,  -1.3275,   9.0388,  -0.5583],\n",
      "        [ -3.1975,  10.4175,  14.4285,  ...,   1.0685,   7.7889,  -3.7556],\n",
      "        ...,\n",
      "        [  0.0216,   8.2986,  -0.2616,  ...,   0.1631,  17.8912,   1.0383],\n",
      "        [  6.7921,  -1.8260,  -3.3294,  ...,   0.1557,   7.2163,  14.0816],\n",
      "        [ -0.5234,   3.4207,  -1.1147,  ...,   1.3302,  16.1383,   5.2687]])\n",
      "tensor([0, 1, 2,  ..., 8, 9, 8])\n",
      "tensor([ 0.,  0.,  0.,  1.,  7., 12., 14.,  1.,  0.,  0.,  1., 13.,  8.,  4.,\n",
      "        13.,  0.,  0.,  0., 10., 16.,  9., 15., 11.,  0.,  0.,  1., 16., 15.,\n",
      "        15., 16.,  3.,  0.,  0.,  0., 11.,  9.,  3., 14.,  0.,  0.,  0.,  0.,\n",
      "         0.,  0.,  5.,  9.,  0.,  0.,  0.,  0.,  0.,  0.,  7.,  8.,  0.,  0.,\n",
      "         0.,  0.,  0.,  0.,  8.,  6.,  0.,  0.])\n",
      "tensor([  0.7973,   8.0074, -10.8701,  -2.4093,   3.7559,   0.4034,  -1.2029,\n",
      "          6.0811,   4.9085,  15.7668])\n"
     ]
    }
   ],
   "source": [
    "print(X.shape)\n",
    "print(Y.shape)\n",
    "print(hypothesis)\n",
    "print(prediction)\n",
    "print(X_single_data)\n",
    "print(single_prediction)"
   ]
  },
  {
   "cell_type": "code",
   "execution_count": null,
   "metadata": {},
   "outputs": [],
   "source": []
  }
 ],
 "metadata": {
  "kernelspec": {
   "display_name": "Python 3",
   "language": "python",
   "name": "python3"
  },
  "language_info": {
   "codemirror_mode": {
    "name": "ipython",
    "version": 3
   },
   "file_extension": ".py",
   "mimetype": "text/x-python",
   "name": "python",
   "nbconvert_exporter": "python",
   "pygments_lexer": "ipython3",
   "version": "3.8.5"
  }
 },
 "nbformat": 4,
 "nbformat_minor": 4
}
